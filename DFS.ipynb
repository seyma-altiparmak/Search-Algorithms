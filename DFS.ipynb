{
  "nbformat": 4,
  "nbformat_minor": 0,
  "metadata": {
    "colab": {
      "provenance": [],
      "authorship_tag": "ABX9TyO5k4kW+Ve2Mj/UdhFDXIP1",
      "include_colab_link": true
    },
    "kernelspec": {
      "name": "python3",
      "display_name": "Python 3"
    },
    "language_info": {
      "name": "python"
    }
  },
  "cells": [
    {
      "cell_type": "markdown",
      "metadata": {
        "id": "view-in-github",
        "colab_type": "text"
      },
      "source": [
        "<a href=\"https://colab.research.google.com/github/seyma-altiparmak/Search-Algorithms-PY/blob/main/DFS.ipynb\" target=\"_parent\"><img src=\"https://colab.research.google.com/assets/colab-badge.svg\" alt=\"Open In Colab\"/></a>"
      ]
    },
    {
      "cell_type": "markdown",
      "source": [
        "**Depth First Search**"
      ],
      "metadata": {
        "id": "KrtgVpqe5o-a"
      }
    },
    {
      "cell_type": "code",
      "execution_count": 1,
      "metadata": {
        "id": "l2elXC675n89"
      },
      "outputs": [],
      "source": [
        "graph = {\n",
        "    'A':['B','C'],\n",
        "    'B':['D','E'],\n",
        "    'C':['F'],\n",
        "    'D':[],\n",
        "    'E':[],\n",
        "    'F':[],\n",
        "}"
      ]
    },
    {
      "cell_type": "code",
      "source": [
        "visit = set()"
      ],
      "metadata": {
        "id": "ODLdXibR5ol3"
      },
      "execution_count": 2,
      "outputs": []
    },
    {
      "cell_type": "code",
      "source": [
        "def dfs(visit,graph,node):\n",
        "  if node not in visit:\n",
        "    print(node)\n",
        "    visit.add(node)\n",
        "    for neighbour in graph[node]:\n",
        "      dfs(neighbour,graph,neighbour)"
      ],
      "metadata": {
        "id": "Hf43tagD6CvX"
      },
      "execution_count": 4,
      "outputs": []
    },
    {
      "cell_type": "code",
      "source": [
        "dfs(visit,graph,'A')"
      ],
      "metadata": {
        "colab": {
          "base_uri": "https://localhost:8080/"
        },
        "id": "vEeDi5-56Rmq",
        "outputId": "99fad1e2-be2a-4d2b-96d4-c31411f1efda"
      },
      "execution_count": 5,
      "outputs": [
        {
          "output_type": "stream",
          "name": "stdout",
          "text": [
            "A\n"
          ]
        }
      ]
    }
  ]
}