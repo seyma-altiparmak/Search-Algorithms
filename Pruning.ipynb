{
  "nbformat": 4,
  "nbformat_minor": 0,
  "metadata": {
    "colab": {
      "provenance": [],
      "authorship_tag": "ABX9TyPZCMPB+9SIq+XsZKvOShcH",
      "include_colab_link": true
    },
    "kernelspec": {
      "name": "python3",
      "display_name": "Python 3"
    },
    "language_info": {
      "name": "python"
    }
  },
  "cells": [
    {
      "cell_type": "markdown",
      "metadata": {
        "id": "view-in-github",
        "colab_type": "text"
      },
      "source": [
        "<a href=\"https://colab.research.google.com/github/seyma-altiparmak/Search-Algorithms-PY/blob/main/Pruning.ipynb\" target=\"_parent\"><img src=\"https://colab.research.google.com/assets/colab-badge.svg\" alt=\"Open In Colab\"/></a>"
      ]
    },
    {
      "cell_type": "markdown",
      "source": [
        "# Pruning (alpha&beta)"
      ],
      "metadata": {
        "id": "itC0hpOJ7HCi"
      }
    },
    {
      "cell_type": "code",
      "execution_count": 1,
      "metadata": {
        "id": "1skAO1_a66oB"
      },
      "outputs": [],
      "source": [
        "tree = [[5,1,2],\n",
        "        [8,-8,9],\n",
        "        [9,4,5],\n",
        "        [-3,4,3]]\n",
        "\n",
        "root = 0\n",
        "pruning = 0"
      ]
    },
    {
      "cell_type": "code",
      "source": [
        "def children(branch,depth,alpha,beta):\n",
        "  global tree\n",
        "  global root\n",
        "  global pruning\n",
        "\n",
        "  i = 0\n",
        "\n",
        "  for child in branch:\n",
        "    if type(child) is list:\n",
        "      (nalpha,nbeta) = children(child,depth+1,alpha,beta)\n",
        "      if depth%2==1:\n",
        "        beta=nalpha if nalpha<beta else beta\n",
        "      else:\n",
        "        alpha=nbeta if nbeta>alpha else alpha\n",
        "        branch[i]=alpha if depth%2==0 else beta\n",
        "        i += 1\n",
        "    else:\n",
        "      if depth%2 == 0 and alpha<child:\n",
        "        alpha=child\n",
        "      if depth%2 == 1 and beta>child:\n",
        "        beta=child\n",
        "      if alpha >= beta:\n",
        "        pruning += 1\n",
        "        break\n",
        "  if depth == root:\n",
        "    tree = alpha if root==0 else beta\n",
        "  return (alpha,beta)"
      ],
      "metadata": {
        "id": "KEvZJl917jv4"
      },
      "execution_count": 2,
      "outputs": []
    },
    {
      "cell_type": "code",
      "source": [
        "def alphabetapruning(in_tree=tree,start=root,min=-15,max=15):\n",
        "  global tree\n",
        "  global pruning\n",
        "  global root\n",
        "  (alpha,beta)=children(tree,start,min,max)\n",
        "  if __name__ == \"__main__\":\n",
        "    print(\"(alpha,beta):\",alpha,beta)\n",
        "    print(\"result:\",tree)\n",
        "    print(\"pruning count:\",pruning)\n",
        "  return(alpha,beta,pruning,tree)"
      ],
      "metadata": {
        "id": "M-EEafNu9HvU"
      },
      "execution_count": 3,
      "outputs": []
    },
    {
      "cell_type": "code",
      "source": [
        "if __name__ == \"__main__\":\n",
        "  alphabetapruning(None)"
      ],
      "metadata": {
        "colab": {
          "base_uri": "https://localhost:8080/"
        },
        "id": "m1gakoLV9xTV",
        "outputId": "10e9fffe-6403-4a9e-df6b-ab1f92a60096"
      },
      "execution_count": 4,
      "outputs": [
        {
          "output_type": "stream",
          "name": "stdout",
          "text": [
            "(alpha,beta): 4 15\n",
            "result: 4\n",
            "pruning count: 2\n"
          ]
        }
      ]
    }
  ]
}