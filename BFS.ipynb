{
  "nbformat": 4,
  "nbformat_minor": 0,
  "metadata": {
    "colab": {
      "provenance": [],
      "authorship_tag": "ABX9TyN14e4KQXd1+6rUWzC9B0b8",
      "include_colab_link": true
    },
    "kernelspec": {
      "name": "python3",
      "display_name": "Python 3"
    },
    "language_info": {
      "name": "python"
    }
  },
  "cells": [
    {
      "cell_type": "markdown",
      "metadata": {
        "id": "view-in-github",
        "colab_type": "text"
      },
      "source": [
        "<a href=\"https://colab.research.google.com/github/seyma-altiparmak/Search-Algorithms-PY/blob/main/BFS.ipynb\" target=\"_parent\"><img src=\"https://colab.research.google.com/assets/colab-badge.svg\" alt=\"Open In Colab\"/></a>"
      ]
    },
    {
      "cell_type": "markdown",
      "source": [
        "**Breadth First Search (BFS)**"
      ],
      "metadata": {
        "id": "v3df0Huk0v2x"
      }
    },
    {
      "cell_type": "code",
      "execution_count": 1,
      "metadata": {
        "id": "lSTjtray0TN4"
      },
      "outputs": [],
      "source": [
        "graph = {\n",
        "    'A':['B','C'],\n",
        "    'B':['D','E'],\n",
        "    'C':['F'],\n",
        "    'D':[],\n",
        "    'E':[],\n",
        "    'F':[],\n",
        "}"
      ]
    },
    {
      "cell_type": "code",
      "source": [
        "visit = []\n",
        "pile = []"
      ],
      "metadata": {
        "id": "8vHmycbd02qq"
      },
      "execution_count": 2,
      "outputs": []
    },
    {
      "cell_type": "code",
      "source": [
        "def bfs(visit,graph,node):\n",
        "    visit.append(node)\n",
        "    pile.append(node)\n",
        "\n",
        "    while pile:\n",
        "      s = pile.pop(0)\n",
        "      print(s, end = \" \")\n",
        "\n",
        "    for neighbour in graph[s]:\n",
        "      if neighbour not in visit:\n",
        "        pile.append(neighbour)"
      ],
      "metadata": {
        "id": "Ze6iXpsY1Cef"
      },
      "execution_count": 5,
      "outputs": []
    },
    {
      "cell_type": "code",
      "source": [
        "bfs(visit,graph,'A')"
      ],
      "metadata": {
        "colab": {
          "base_uri": "https://localhost:8080/"
        },
        "id": "qauhByN91jLJ",
        "outputId": "022bd91f-68c1-4146-d920-c35afccd45c2"
      },
      "execution_count": 6,
      "outputs": [
        {
          "output_type": "stream",
          "name": "stdout",
          "text": [
            "A "
          ]
        }
      ]
    }
  ]
}